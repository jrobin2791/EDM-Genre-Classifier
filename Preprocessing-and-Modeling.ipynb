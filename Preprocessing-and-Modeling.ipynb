{
 "cells": [
  {
   "cell_type": "markdown",
   "metadata": {},
   "source": [
    "# Preprocessing and Modeling"
   ]
  },
  {
   "cell_type": "markdown",
   "metadata": {},
   "source": [
    "The following notebook is dedicated to training, testing, and validating various preprocessing and modeling methods. The goal is to attempt to formulate the best possible model for classifying the genre of an EDM song."
   ]
  },
  {
   "cell_type": "markdown",
   "metadata": {},
   "source": [
    "## Imports"
   ]
  },
  {
   "cell_type": "code",
   "execution_count": 1,
   "metadata": {},
   "outputs": [],
   "source": [
    "# Imports\n",
    "import pandas as pd\n",
    "import numpy as np\n",
    "import matplotlib.pyplot as plt\n",
    "import pickle\n",
    "from sklearn.preprocessing import StandardScaler, PowerTransformer, PolynomialFeatures\n",
    "from sklearn.model_selection import train_test_split, GridSearchCV, RandomizedSearchCV\n",
    "from sklearn.linear_model import LogisticRegression\n",
    "from sklearn.neighbors import KNeighborsClassifier\n",
    "from sklearn.tree import DecisionTreeClassifier\n",
    "from sklearn.ensemble import RandomForestClassifier, BaggingClassifier, GradientBoostingClassifier, AdaBoostClassifier, VotingClassifier\n",
    "from xgboost import XGBClassifier\n",
    "\n",
    "# Don't display warnings\n",
    "import warnings\n",
    "warnings.filterwarnings('ignore')"
   ]
  },
  {
   "cell_type": "markdown",
   "metadata": {},
   "source": [
    "## Reading In The Data"
   ]
  },
  {
   "cell_type": "code",
   "execution_count": 2,
   "metadata": {},
   "outputs": [],
   "source": [
    "# Read in the data\n",
    "songs = pd.read_csv('data/songs_clean.csv')\n",
    "val = pd.read_csv('data/val_clean.csv')"
   ]
  },
  {
   "cell_type": "markdown",
   "metadata": {},
   "source": [
    "## Setting Features And Target Variables"
   ]
  },
  {
   "cell_type": "code",
   "execution_count": 3,
   "metadata": {},
   "outputs": [],
   "source": [
    "# Set features and target for modeling\n",
    "X = songs.drop('genre', axis=1)\n",
    "y = songs['genre']"
   ]
  },
  {
   "cell_type": "markdown",
   "metadata": {},
   "source": [
    "## Train Test Split"
   ]
  },
  {
   "cell_type": "code",
   "execution_count": 4,
   "metadata": {},
   "outputs": [],
   "source": [
    "# Split the modeling data into 85% training and 15% testing sets\n",
    "X_train, X_test, y_train, y_test = train_test_split(X, y, test_size=.15, random_state=72, stratify=y)"
   ]
  },
  {
   "cell_type": "markdown",
   "metadata": {},
   "source": [
    "## Preprocessing"
   ]
  },
  {
   "cell_type": "markdown",
   "metadata": {},
   "source": [
    "Several options for preprocessing will be compared when testing subsequent models."
   ]
  },
  {
   "cell_type": "markdown",
   "metadata": {},
   "source": [
    "### Polynomial Features"
   ]
  },
  {
   "cell_type": "markdown",
   "metadata": {},
   "source": [
    "Training the models with more complex interaction columns and polynomial features will improve the accuracy of the results. However, given the size of the dataset, any more than 5 degrees can start to create problems since the number of features will be too large in comparison to the number of of observations."
   ]
  },
  {
   "cell_type": "code",
   "execution_count": 5,
   "metadata": {},
   "outputs": [],
   "source": [
    "# Create polynomial features up to 5 degrees\n",
    "pf = PolynomialFeatures(degree=5)\n",
    "# Training data\n",
    "X_train = pf.fit_transform(X_train)\n",
    "# Test data\n",
    "X_test = pf.transform(X_test)\n",
    "# Validation data\n",
    "X_val = pf.transform(val.drop('genre', axis=1))"
   ]
  },
  {
   "cell_type": "code",
   "execution_count": 6,
   "metadata": {},
   "outputs": [],
   "source": [
    "# Create a list to store all the new polynomial feature names\n",
    "poly_feat = pf.get_feature_names(X.columns)"
   ]
  },
  {
   "cell_type": "markdown",
   "metadata": {},
   "source": [
    "### Scaling Options"
   ]
  },
  {
   "cell_type": "markdown",
   "metadata": {},
   "source": [
    "Depending on the type of model, standardizing or using a power transformer to scale the variables may improve the performance of the algorithm. Both a standard scaler and a power transformer are set up here so that they can be compared with each other."
   ]
  },
  {
   "cell_type": "code",
   "execution_count": 7,
   "metadata": {},
   "outputs": [],
   "source": [
    "# Run the data through a standard scaler\n",
    "ss = StandardScaler()\n",
    "# Training data\n",
    "X_tr_sc = ss.fit_transform(X_train)\n",
    "# Test data\n",
    "X_te_sc = ss.transform(X_test)\n",
    "# Validation data\n",
    "X_val_sc = ss.transform(X_val)"
   ]
  },
  {
   "cell_type": "code",
   "execution_count": 8,
   "metadata": {},
   "outputs": [],
   "source": [
    "# Run the data through a power transformer\n",
    "pt = PowerTransformer()\n",
    "# Training data\n",
    "X_tr_pt = pt.fit_transform(X_train)\n",
    "# Test data\n",
    "X_te_pt = pt.transform(X_test)\n",
    "# Validation data\n",
    "X_val_pt = pt.transform(X_val)"
   ]
  },
  {
   "cell_type": "markdown",
   "metadata": {},
   "source": [
    "## Baseline Models"
   ]
  },
  {
   "cell_type": "markdown",
   "metadata": {},
   "source": [
    "A series of baseline modeling tactics will be deployed with scaled, unscaled and power transformed data. This will give a general idea of which preprocessing method works the best and which models show the most potential and should be further tuned."
   ]
  },
  {
   "cell_type": "markdown",
   "metadata": {},
   "source": [
    "### Logistic Regression"
   ]
  },
  {
   "cell_type": "code",
   "execution_count": 9,
   "metadata": {},
   "outputs": [
    {
     "name": "stdout",
     "output_type": "stream",
     "text": [
      "Training Score: 0.37481525273425953\n",
      "Test Score: 0.35845896147403683\n",
      "Validation Score: 0.28\n"
     ]
    }
   ],
   "source": [
    "# Logistic regression baseline model\n",
    "lr = LogisticRegression(random_state=72)\n",
    "lr.fit(X_train, y_train)\n",
    "print(f\"Training Score: {lr.score(X_train, y_train)}\")\n",
    "print(f\"Test Score: {lr.score(X_test, y_test)}\")\n",
    "print(f\"Validation Score: {lr.score(X_val, val['genre'])}\")"
   ]
  },
  {
   "cell_type": "code",
   "execution_count": 10,
   "metadata": {},
   "outputs": [
    {
     "name": "stdout",
     "output_type": "stream",
     "text": [
      "Training Score: 0.7360331067100206\n",
      "Test Score: 0.6834170854271356\n",
      "Validation Score: 0.85\n"
     ]
    }
   ],
   "source": [
    "# Logistic regression baseline model with standard scaler\n",
    "lr.fit(X_tr_sc, y_train)\n",
    "print(f\"Training Score: {lr.score(X_tr_sc, y_train)}\")\n",
    "print(f\"Test Score: {lr.score(X_te_sc, y_test)}\")\n",
    "print(f\"Validation Score: {lr.score(X_val_sc, val['genre'])}\")"
   ]
  },
  {
   "cell_type": "code",
   "execution_count": 11,
   "metadata": {},
   "outputs": [
    {
     "name": "stdout",
     "output_type": "stream",
     "text": [
      "Training Score: 0.7375110848359444\n",
      "Test Score: 0.6666666666666666\n",
      "Validation Score: 0.8\n"
     ]
    }
   ],
   "source": [
    "# Logistic regression baseline model with power transformer\n",
    "lr.fit(X_tr_pt, y_train)\n",
    "print(f\"Training Score: {lr.score(X_tr_pt, y_train)}\")\n",
    "print(f\"Test Score: {lr.score(X_te_pt, y_test)}\")\n",
    "print(f\"Validation Score: {lr.score(X_val_pt, val['genre'])}\")"
   ]
  },
  {
   "cell_type": "markdown",
   "metadata": {},
   "source": [
    "### K-Nearest Neighbor"
   ]
  },
  {
   "cell_type": "code",
   "execution_count": 12,
   "metadata": {},
   "outputs": [
    {
     "name": "stdout",
     "output_type": "stream",
     "text": [
      "Training Score: 0.5900088678687555\n",
      "Test Score: 0.37018425460636517\n",
      "Validation Score: 0.33\n"
     ]
    }
   ],
   "source": [
    "# KNN baseline model\n",
    "knn = KNeighborsClassifier()\n",
    "knn.fit(X_train, y_train)\n",
    "print(f\"Training Score: {knn.score(X_train, y_train)}\")\n",
    "print(f\"Test Score: {knn.score(X_test, y_test)}\")\n",
    "print(f\"Validation Score: {knn.score(X_val, val['genre'])}\")"
   ]
  },
  {
   "cell_type": "code",
   "execution_count": 13,
   "metadata": {},
   "outputs": [
    {
     "name": "stdout",
     "output_type": "stream",
     "text": [
      "Training Score: 0.7783032811114395\n",
      "Test Score: 0.6515912897822446\n",
      "Validation Score: 0.84\n"
     ]
    }
   ],
   "source": [
    "# KNN baseline model with standard scaler\n",
    "knn.fit(X_tr_sc, y_train)\n",
    "print(f\"Training Score: {knn.score(X_tr_sc, y_train)}\")\n",
    "print(f\"Test Score: {knn.score(X_te_sc, y_test)}\")\n",
    "print(f\"Validation Score: {knn.score(X_val_sc, val['genre'])}\")"
   ]
  },
  {
   "cell_type": "code",
   "execution_count": 14,
   "metadata": {},
   "outputs": [
    {
     "name": "stdout",
     "output_type": "stream",
     "text": [
      "Training Score: 0.7821460242388413\n",
      "Test Score: 0.661641541038526\n",
      "Validation Score: 0.78\n"
     ]
    }
   ],
   "source": [
    "# KNN baseline model with power transformer\n",
    "knn.fit(X_tr_pt, y_train)\n",
    "print(f\"Training Score: {knn.score(X_tr_pt, y_train)}\")\n",
    "print(f\"Test Score: {knn.score(X_te_pt, y_test)}\")\n",
    "print(f\"Validation Score: {knn.score(X_val_pt, val['genre'])}\")"
   ]
  },
  {
   "cell_type": "markdown",
   "metadata": {},
   "source": [
    "### Decision Tree"
   ]
  },
  {
   "cell_type": "code",
   "execution_count": 15,
   "metadata": {},
   "outputs": [
    {
     "name": "stdout",
     "output_type": "stream",
     "text": [
      "Training Score: 0.9234407330771505\n",
      "Test Score: 0.6197654941373534\n",
      "Validation Score: 0.76\n"
     ]
    }
   ],
   "source": [
    "# Decision tree baseline model\n",
    "dt = DecisionTreeClassifier(random_state=72)\n",
    "dt.fit(X_tr_sc, y_train)\n",
    "print(f\"Training Score: {dt.score(X_tr_sc, y_train)}\")\n",
    "print(f\"Test Score: {dt.score(X_te_sc, y_test)}\")\n",
    "print(f\"Validation Score: {dt.score(X_val_sc, val['genre'])}\")"
   ]
  },
  {
   "cell_type": "code",
   "execution_count": 16,
   "metadata": {},
   "outputs": [
    {
     "name": "stdout",
     "output_type": "stream",
     "text": [
      "Training Score: 0.9234407330771505\n",
      "Test Score: 0.6197654941373534\n",
      "Validation Score: 0.76\n"
     ]
    }
   ],
   "source": [
    "# Decision tree baseline model with standard scaler\n",
    "dt.fit(X_tr_sc, y_train)\n",
    "print(f\"Training Score: {dt.score(X_tr_sc, y_train)}\")\n",
    "print(f\"Test Score: {dt.score(X_te_sc, y_test)}\")\n",
    "print(f\"Validation Score: {dt.score(X_val_sc, val['genre'])}\")"
   ]
  },
  {
   "cell_type": "code",
   "execution_count": 17,
   "metadata": {},
   "outputs": [
    {
     "name": "stdout",
     "output_type": "stream",
     "text": [
      "Training Score: 0.9234407330771505\n",
      "Test Score: 0.6164154103852596\n",
      "Validation Score: 0.75\n"
     ]
    }
   ],
   "source": [
    "# Decision tree baseline model with power transformer\n",
    "dt.fit(X_tr_pt, y_train)\n",
    "print(f\"Training Score: {dt.score(X_tr_pt, y_train)}\")\n",
    "print(f\"Test Score: {dt.score(X_te_pt, y_test)}\")\n",
    "print(f\"Validation Score: {dt.score(X_val_pt, val['genre'])}\")"
   ]
  },
  {
   "cell_type": "markdown",
   "metadata": {},
   "source": [
    "### Bagging"
   ]
  },
  {
   "cell_type": "code",
   "execution_count": 18,
   "metadata": {},
   "outputs": [
    {
     "name": "stdout",
     "output_type": "stream",
     "text": [
      "Training Score: 0.9154596511971623\n",
      "Test Score: 0.7035175879396985\n",
      "Validation Score: 0.88\n"
     ]
    }
   ],
   "source": [
    "# Bagging baseline model\n",
    "bag = BaggingClassifier(random_state=72)\n",
    "bag.fit(X_tr_sc, y_train)\n",
    "print(f\"Training Score: {bag.score(X_tr_sc, y_train)}\")\n",
    "print(f\"Test Score: {bag.score(X_te_sc, y_test)}\")\n",
    "print(f\"Validation Score: {bag.score(X_val_sc, val['genre'])}\")"
   ]
  },
  {
   "cell_type": "code",
   "execution_count": 19,
   "metadata": {},
   "outputs": [
    {
     "name": "stdout",
     "output_type": "stream",
     "text": [
      "Training Score: 0.9154596511971623\n",
      "Test Score: 0.7035175879396985\n",
      "Validation Score: 0.88\n"
     ]
    }
   ],
   "source": [
    "# Bagging baseline model with standard scaler\n",
    "bag.fit(X_tr_sc, y_train)\n",
    "print(f\"Training Score: {bag.score(X_tr_sc, y_train)}\")\n",
    "print(f\"Test Score: {bag.score(X_te_sc, y_test)}\")\n",
    "print(f\"Validation Score: {bag.score(X_val_sc, val['genre'])}\")"
   ]
  },
  {
   "cell_type": "code",
   "execution_count": 20,
   "metadata": {},
   "outputs": [
    {
     "name": "stdout",
     "output_type": "stream",
     "text": [
      "Training Score: 0.9160508424475318\n",
      "Test Score: 0.7035175879396985\n",
      "Validation Score: 0.91\n"
     ]
    }
   ],
   "source": [
    "# Bagging baseline model with power transformer\n",
    "bag.fit(X_tr_pt, y_train)\n",
    "print(f\"Training Score: {bag.score(X_tr_pt, y_train)}\")\n",
    "print(f\"Test Score: {bag.score(X_te_pt, y_test)}\")\n",
    "print(f\"Validation Score: {bag.score(X_val_pt, val['genre'])}\")"
   ]
  },
  {
   "cell_type": "markdown",
   "metadata": {},
   "source": [
    "### Random Forest"
   ]
  },
  {
   "cell_type": "code",
   "execution_count": 21,
   "metadata": {},
   "outputs": [
    {
     "name": "stdout",
     "output_type": "stream",
     "text": [
      "Training Score: 0.9160508424475318\n",
      "Test Score: 0.6968174204355109\n",
      "Validation Score: 0.86\n"
     ]
    }
   ],
   "source": [
    "# Random forest baseline model\n",
    "rf = RandomForestClassifier(random_state=72)\n",
    "rf.fit(X_train, y_train)\n",
    "print(f\"Training Score: {rf.score(X_train, y_train)}\")\n",
    "print(f\"Test Score: {rf.score(X_test, y_test)}\")\n",
    "print(f\"Validation Score: {rf.score(X_val, val['genre'])}\")"
   ]
  },
  {
   "cell_type": "code",
   "execution_count": 22,
   "metadata": {},
   "outputs": [
    {
     "name": "stdout",
     "output_type": "stream",
     "text": [
      "Training Score: 0.9160508424475318\n",
      "Test Score: 0.6968174204355109\n",
      "Validation Score: 0.86\n"
     ]
    }
   ],
   "source": [
    "# Random forest baseline model with standard scaler\n",
    "rf.fit(X_tr_sc, y_train)\n",
    "print(f\"Training Score: {rf.score(X_tr_sc, y_train)}\")\n",
    "print(f\"Test Score: {rf.score(X_te_sc, y_test)}\")\n",
    "print(f\"Validation Score: {rf.score(X_val_sc, val['genre'])}\")"
   ]
  },
  {
   "cell_type": "code",
   "execution_count": 23,
   "metadata": {},
   "outputs": [
    {
     "name": "stdout",
     "output_type": "stream",
     "text": [
      "Training Score: 0.914572864321608\n",
      "Test Score: 0.6901172529313233\n",
      "Validation Score: 0.82\n"
     ]
    }
   ],
   "source": [
    "# Random forest baseline model with power transformer\n",
    "rf.fit(X_tr_pt, y_train)\n",
    "print(f\"Training Score: {rf.score(X_tr_pt, y_train)}\")\n",
    "print(f\"Test Score: {rf.score(X_te_pt, y_test)}\")\n",
    "print(f\"Validation Score: {rf.score(X_val_pt, val['genre'])}\")"
   ]
  },
  {
   "cell_type": "markdown",
   "metadata": {},
   "source": [
    "### AdaBoost"
   ]
  },
  {
   "cell_type": "code",
   "execution_count": 24,
   "metadata": {},
   "outputs": [
    {
     "name": "stdout",
     "output_type": "stream",
     "text": [
      "Training Score: 0.7652970736033107\n",
      "Test Score: 0.7169179229480737\n",
      "Validation Score: 0.84\n"
     ]
    }
   ],
   "source": [
    "# Adaboost baseline model\n",
    "ada = AdaBoostClassifier(random_state=72)\n",
    "ada.fit(X_train, y_train)\n",
    "print(f\"Training Score: {ada.score(X_train, y_train)}\")\n",
    "print(f\"Test Score: {ada.score(X_test, y_test)}\")\n",
    "print(f\"Validation Score: {ada.score(X_val, val['genre'])}\")"
   ]
  },
  {
   "cell_type": "code",
   "execution_count": 25,
   "metadata": {},
   "outputs": [
    {
     "name": "stdout",
     "output_type": "stream",
     "text": [
      "Training Score: 0.7652970736033107\n",
      "Test Score: 0.7169179229480737\n",
      "Validation Score: 0.84\n"
     ]
    }
   ],
   "source": [
    "# Adaboost baseline model with standard scaler\n",
    "ada.fit(X_tr_sc, y_train)\n",
    "print(f\"Training Score: {ada.score(X_tr_sc, y_train)}\")\n",
    "print(f\"Test Score: {ada.score(X_te_sc, y_test)}\")\n",
    "print(f\"Validation Score: {ada.score(X_val_sc, val['genre'])}\")"
   ]
  },
  {
   "cell_type": "code",
   "execution_count": 26,
   "metadata": {},
   "outputs": [
    {
     "name": "stdout",
     "output_type": "stream",
     "text": [
      "Training Score: 0.7611587348507242\n",
      "Test Score: 0.7386934673366834\n",
      "Validation Score: 0.91\n"
     ]
    }
   ],
   "source": [
    "# Adaboost forest baseline model with power transformer\n",
    "ada.fit(X_tr_pt, y_train)\n",
    "print(f\"Training Score: {ada.score(X_tr_pt, y_train)}\")\n",
    "print(f\"Test Score: {ada.score(X_te_pt, y_test)}\")\n",
    "print(f\"Validation Score: {ada.score(X_val_pt, val['genre'])}\")"
   ]
  },
  {
   "cell_type": "markdown",
   "metadata": {},
   "source": [
    "### Gradient Boost"
   ]
  },
  {
   "cell_type": "code",
   "execution_count": 27,
   "metadata": {},
   "outputs": [
    {
     "name": "stdout",
     "output_type": "stream",
     "text": [
      "Training Score: 0.8604788649127993\n",
      "Test Score: 0.7420435510887772\n",
      "Validation Score: 0.9\n"
     ]
    }
   ],
   "source": [
    "# Gradient Boost baseline model\n",
    "gb = GradientBoostingClassifier(random_state=72)\n",
    "gb.fit(X_train, y_train)\n",
    "print(f\"Training Score: {gb.score(X_train, y_train)}\")\n",
    "print(f\"Test Score: {gb.score(X_test, y_test)}\")\n",
    "print(f\"Validation Score: {gb.score(X_val, val['genre'])}\")"
   ]
  },
  {
   "cell_type": "code",
   "execution_count": 28,
   "metadata": {},
   "outputs": [
    {
     "name": "stdout",
     "output_type": "stream",
     "text": [
      "Training Score: 0.8604788649127993\n",
      "Test Score: 0.7420435510887772\n",
      "Validation Score: 0.9\n"
     ]
    }
   ],
   "source": [
    "# Gradient Boost baseline model with standard scaler\n",
    "gb.fit(X_tr_sc, y_train)\n",
    "print(f\"Training Score: {gb.score(X_tr_sc, y_train)}\")\n",
    "print(f\"Test Score: {gb.score(X_te_sc, y_test)}\")\n",
    "print(f\"Validation Score: {gb.score(X_val_sc, val['genre'])}\")"
   ]
  },
  {
   "cell_type": "code",
   "execution_count": 29,
   "metadata": {},
   "outputs": [
    {
     "name": "stdout",
     "output_type": "stream",
     "text": [
      "Training Score: 0.857227313035767\n",
      "Test Score: 0.7353433835845896\n",
      "Validation Score: 0.91\n"
     ]
    }
   ],
   "source": [
    "# Gradient Boost forest baseline model with power transformer\n",
    "gb.fit(X_tr_pt, y_train)\n",
    "print(f\"Training Score: {gb.score(X_tr_pt, y_train)}\")\n",
    "print(f\"Test Score: {gb.score(X_te_pt, y_test)}\")\n",
    "print(f\"Validation Score: {gb.score(X_val_pt, val['genre'])}\")"
   ]
  },
  {
   "cell_type": "markdown",
   "metadata": {},
   "source": [
    "### XGBoost"
   ]
  },
  {
   "cell_type": "code",
   "execution_count": 30,
   "metadata": {},
   "outputs": [
    {
     "name": "stdout",
     "output_type": "stream",
     "text": [
      "Training Score: 0.8294413242684008\n",
      "Test Score: 0.7487437185929648\n",
      "Validation Score: 0.91\n"
     ]
    }
   ],
   "source": [
    "# XGBoost baseline model\n",
    "xgb = XGBClassifier(random_state=72)\n",
    "xgb.fit(X_train, y_train)\n",
    "print(f\"Training Score: {xgb.score(X_train, y_train)}\")\n",
    "print(f\"Test Score: {xgb.score(X_test, y_test)}\")\n",
    "print(f\"Validation Score: {xgb.score(X_val, val['genre'])}\")"
   ]
  },
  {
   "cell_type": "code",
   "execution_count": 31,
   "metadata": {},
   "outputs": [
    {
     "name": "stdout",
     "output_type": "stream",
     "text": [
      "Training Score: 0.8294413242684008\n",
      "Test Score: 0.7487437185929648\n",
      "Validation Score: 0.91\n"
     ]
    }
   ],
   "source": [
    "# XGBoost baseline model with standard scaler\n",
    "xgb.fit(X_tr_sc, y_train)\n",
    "print(f\"Training Score: {xgb.score(X_tr_sc, y_train)}\")\n",
    "print(f\"Test Score: {xgb.score(X_te_sc, y_test)}\")\n",
    "print(f\"Validation Score: {xgb.score(X_val_sc, val['genre'])}\")"
   ]
  },
  {
   "cell_type": "code",
   "execution_count": 32,
   "metadata": {},
   "outputs": [
    {
     "name": "stdout",
     "output_type": "stream",
     "text": [
      "Training Score: 0.8323972805202483\n",
      "Test Score: 0.7403685092127303\n",
      "Validation Score: 0.9\n"
     ]
    }
   ],
   "source": [
    "# XGBoost baseline model with power transformer\n",
    "xgb.fit(X_tr_pt, y_train)\n",
    "print(f\"Training Score: {xgb.score(X_tr_pt, y_train)}\")\n",
    "print(f\"Test Score: {xgb.score(X_te_pt, y_test)}\")\n",
    "print(f\"Validation Score: {xgb.score(X_val_pt, val['genre'])}\")"
   ]
  },
  {
   "cell_type": "markdown",
   "metadata": {},
   "source": [
    "Based on the results above, it appears that the models perform best overall when the data is run through a power transformer. The logistic regression and k-nearest neighbor algorithms seem to perform significantly worse than the others overall. The next step will be to focus on improving the remaining six algorithms with parameter tuning."
   ]
  },
  {
   "cell_type": "markdown",
   "metadata": {},
   "source": [
    "## Model Tuning"
   ]
  },
  {
   "cell_type": "markdown",
   "metadata": {},
   "source": [
    "### Decision Tree"
   ]
  },
  {
   "cell_type": "code",
   "execution_count": 33,
   "metadata": {},
   "outputs": [],
   "source": [
    "# Set parameter distributions for a randomized search over a decision tree\n",
    "params = {\n",
    "    'max_depth': range(1,25),\n",
    "    'min_samples_split': range(2,25),\n",
    "    'min_samples_leaf': range(1,25),\n",
    "    'min_weight_fraction_leaf': np.linspace(0,.5,100),\n",
    "    'max_features': np.linspace(.001,1.0,100),\n",
    "    'max_leaf_nodes': range(2,100),\n",
    "    'min_impurity_decrease': np.linspace(0,1,100),\n",
    "    'presort': range(2)\n",
    "}"
   ]
  },
  {
   "cell_type": "code",
   "execution_count": 34,
   "metadata": {},
   "outputs": [
    {
     "data": {
      "text/plain": [
       "RandomizedSearchCV(cv=3, error_score='raise-deprecating',\n",
       "          estimator=DecisionTreeClassifier(class_weight=None, criterion='gini', max_depth=None,\n",
       "            max_features=None, max_leaf_nodes=None,\n",
       "            min_impurity_decrease=0.0, min_impurity_split=None,\n",
       "            min_samples_leaf=1, min_samples_split=2,\n",
       "            min_weight_fraction_leaf=0.0, presort=False, random_state=72,\n",
       "            splitter='best'),\n",
       "          fit_params=None, iid='warn', n_iter=500, n_jobs=None,\n",
       "          param_distributions={'max_depth': range(1, 25), 'min_samples_split': range(2, 25), 'min_samples_leaf': range(1, 25), 'min_weight_fraction_leaf': array([0.     , 0.00505, ..., 0.49495, 0.5    ]), 'max_features': array([0.001  , 0.01109, ..., 0.98991, 1.     ]), 'max_leaf_nodes': range(2, 100), 'min_impurity_decrease': array([0.    , 0.0101, ..., 0.9899, 1.    ]), 'presort': range(0, 2)},\n",
       "          pre_dispatch='2*n_jobs', random_state=72, refit=True,\n",
       "          return_train_score='warn', scoring=None, verbose=0)"
      ]
     },
     "execution_count": 34,
     "metadata": {},
     "output_type": "execute_result"
    }
   ],
   "source": [
    "# Instantiate and fit a randomized search with 3 folds\n",
    "rs = RandomizedSearchCV(dt, params, 500, cv=3, random_state=72)\n",
    "rs.fit(X_tr_pt, y_train)"
   ]
  },
  {
   "cell_type": "code",
   "execution_count": 35,
   "metadata": {},
   "outputs": [
    {
     "data": {
      "text/plain": [
       "{'presort': 0,\n",
       " 'min_weight_fraction_leaf': 0.0,\n",
       " 'min_samples_split': 5,\n",
       " 'min_samples_leaf': 21,\n",
       " 'min_impurity_decrease': 0.020202020202020204,\n",
       " 'max_leaf_nodes': 92,\n",
       " 'max_features': 0.5963636363636364,\n",
       " 'max_depth': 3}"
      ]
     },
     "execution_count": 35,
     "metadata": {},
     "output_type": "execute_result"
    }
   ],
   "source": [
    "# Display the best performing parameters\n",
    "rs.best_params_"
   ]
  },
  {
   "cell_type": "code",
   "execution_count": 36,
   "metadata": {},
   "outputs": [
    {
     "name": "stdout",
     "output_type": "stream",
     "text": [
      "Training Score: 0.7658882648536801\n",
      "Test Score: 0.7135678391959799\n",
      "Validation Score: 0.91\n"
     ]
    }
   ],
   "source": [
    "# Score the best decision tree estimator on training, test, and validation\n",
    "print(f\"Training Score: {rs.best_estimator_.score(X_tr_pt, y_train)}\")\n",
    "print(f\"Test Score: {rs.best_estimator_.score(X_te_pt, y_test)}\")\n",
    "print(f\"Validation Score: {rs.best_estimator_.score(X_val_pt, val['genre'])}\")"
   ]
  },
  {
   "cell_type": "markdown",
   "metadata": {},
   "source": [
    "The randomized search over parameters resulted in a pretty decent model, significantly better than the baseline. The best parameters from this search will now be tuned further using grid search in an attempt to further improve this model."
   ]
  },
  {
   "cell_type": "code",
   "execution_count": 37,
   "metadata": {},
   "outputs": [],
   "source": [
    "# Set parameter distributions for a grid search over a decision tree\n",
    "params = {\n",
    "    'min_samples_split': range(4,7),\n",
    "    'min_samples_leaf': range(20,23),\n",
    "    'min_impurity_decrease': [.01,.02,.03],\n",
    "    'max_leaf_nodes': range(91,94),\n",
    "    'max_features': [.5,.6,.7],\n",
    "    'max_depth': range(2,5)\n",
    "}"
   ]
  },
  {
   "cell_type": "code",
   "execution_count": 38,
   "metadata": {},
   "outputs": [
    {
     "data": {
      "text/plain": [
       "GridSearchCV(cv=3, error_score='raise-deprecating',\n",
       "       estimator=DecisionTreeClassifier(class_weight=None, criterion='gini', max_depth=3,\n",
       "            max_features=0.5963636363636364, max_leaf_nodes=92,\n",
       "            min_impurity_decrease=0.020202020202020204,\n",
       "            min_impurity_split=None, min_samples_leaf=21,\n",
       "            min_samples_split=5, min_weight_fraction_leaf=0.0, presort=0,\n",
       "            random_state=72, splitter='best'),\n",
       "       fit_params=None, iid='warn', n_jobs=None,\n",
       "       param_grid={'min_samples_split': range(4, 7), 'min_samples_leaf': range(20, 23), 'min_impurity_decrease': [0.01, 0.02, 0.03], 'max_leaf_nodes': range(91, 94), 'max_features': [0.5, 0.6, 0.7], 'max_depth': range(2, 5)},\n",
       "       pre_dispatch='2*n_jobs', refit=True, return_train_score='warn',\n",
       "       scoring=None, verbose=0)"
      ]
     },
     "execution_count": 38,
     "metadata": {},
     "output_type": "execute_result"
    }
   ],
   "source": [
    "# Instantiate and fit a grid search with 3 folds\n",
    "gs = GridSearchCV(rs.best_estimator_, params, cv=3)\n",
    "gs.fit(X_tr_pt, y_train)"
   ]
  },
  {
   "cell_type": "code",
   "execution_count": 39,
   "metadata": {},
   "outputs": [
    {
     "data": {
      "text/plain": [
       "{'max_depth': 4,\n",
       " 'max_features': 0.5,\n",
       " 'max_leaf_nodes': 91,\n",
       " 'min_impurity_decrease': 0.01,\n",
       " 'min_samples_leaf': 20,\n",
       " 'min_samples_split': 4}"
      ]
     },
     "execution_count": 39,
     "metadata": {},
     "output_type": "execute_result"
    }
   ],
   "source": [
    "# Display the best performing parameters\n",
    "gs.best_params_"
   ]
  },
  {
   "cell_type": "code",
   "execution_count": 40,
   "metadata": {},
   "outputs": [
    {
     "name": "stdout",
     "output_type": "stream",
     "text": [
      "Training Score: 0.7803724504877327\n",
      "Test Score: 0.7303182579564489\n",
      "Validation Score: 0.92\n"
     ]
    }
   ],
   "source": [
    "# Score the best decision tree estimator on training, test, and validation\n",
    "print(f\"Training Score: {gs.best_estimator_.score(X_tr_pt, y_train)}\")\n",
    "print(f\"Test Score: {gs.best_estimator_.score(X_te_pt, y_test)}\")\n",
    "print(f\"Validation Score: {gs.best_estimator_.score(X_val_pt, val['genre'])}\")"
   ]
  },
  {
   "cell_type": "markdown",
   "metadata": {},
   "source": [
    "These results show significant improvement from the randomized search. Perhaps they can be improved even more with additional fine-tuning."
   ]
  },
  {
   "cell_type": "code",
   "execution_count": 41,
   "metadata": {},
   "outputs": [],
   "source": [
    "# Set parameter distributions for a second grid search over a decision tree\n",
    "params = {\n",
    "    'min_samples_split': range(3,6),\n",
    "    'min_samples_leaf': range(19,22),\n",
    "    'min_impurity_decrease': [0,.01,.02],\n",
    "    'max_leaf_nodes': range(90,93),\n",
    "    'max_features': [.4,.5,.6],\n",
    "    'max_depth': range(3,6)\n",
    "}"
   ]
  },
  {
   "cell_type": "code",
   "execution_count": 42,
   "metadata": {},
   "outputs": [
    {
     "data": {
      "text/plain": [
       "GridSearchCV(cv=3, error_score='raise-deprecating',\n",
       "       estimator=DecisionTreeClassifier(class_weight=None, criterion='gini', max_depth=3,\n",
       "            max_features=0.5963636363636364, max_leaf_nodes=92,\n",
       "            min_impurity_decrease=0.020202020202020204,\n",
       "            min_impurity_split=None, min_samples_leaf=21,\n",
       "            min_samples_split=5, min_weight_fraction_leaf=0.0, presort=0,\n",
       "            random_state=72, splitter='best'),\n",
       "       fit_params=None, iid='warn', n_jobs=None,\n",
       "       param_grid={'min_samples_split': range(3, 6), 'min_samples_leaf': range(19, 22), 'min_impurity_decrease': [0, 0.01, 0.02], 'max_leaf_nodes': range(90, 93), 'max_features': [0.4, 0.5, 0.6], 'max_depth': range(3, 6)},\n",
       "       pre_dispatch='2*n_jobs', refit=True, return_train_score='warn',\n",
       "       scoring=None, verbose=0)"
      ]
     },
     "execution_count": 42,
     "metadata": {},
     "output_type": "execute_result"
    }
   ],
   "source": [
    "# Instantiate and fit a grid search with 3 folds\n",
    "gs2 = GridSearchCV(rs.best_estimator_, params, cv=3)\n",
    "gs2.fit(X_tr_pt, y_train)"
   ]
  },
  {
   "cell_type": "code",
   "execution_count": 43,
   "metadata": {},
   "outputs": [
    {
     "data": {
      "text/plain": [
       "{'max_depth': 4,\n",
       " 'max_features': 0.4,\n",
       " 'max_leaf_nodes': 90,\n",
       " 'min_impurity_decrease': 0.01,\n",
       " 'min_samples_leaf': 19,\n",
       " 'min_samples_split': 3}"
      ]
     },
     "execution_count": 43,
     "metadata": {},
     "output_type": "execute_result"
    }
   ],
   "source": [
    "# Display the best performing parameters\n",
    "gs2.best_params_"
   ]
  },
  {
   "cell_type": "code",
   "execution_count": 44,
   "metadata": {},
   "outputs": [
    {
     "name": "stdout",
     "output_type": "stream",
     "text": [
      "Training Score: 0.7777120898610701\n",
      "Test Score: 0.7269681742043551\n",
      "Validation Score: 0.91\n"
     ]
    }
   ],
   "source": [
    "# Score the best decision tree estimator on training, test, and validation\n",
    "print(f\"Training Score: {gs2.best_estimator_.score(X_tr_pt, y_train)}\")\n",
    "print(f\"Test Score: {gs2.best_estimator_.score(X_te_pt, y_test)}\")\n",
    "print(f\"Validation Score: {gs2.best_estimator_.score(X_val_pt, val['genre'])}\")"
   ]
  },
  {
   "cell_type": "markdown",
   "metadata": {},
   "source": [
    "The best estimator from the previous grid search actually did better than this last one, so that is what will be saved as the final decision tree model."
   ]
  },
  {
   "cell_type": "code",
   "execution_count": 45,
   "metadata": {},
   "outputs": [],
   "source": [
    "# Save the best estimator as the final decision tree model\n",
    "dt = gs.best_estimator_"
   ]
  },
  {
   "cell_type": "markdown",
   "metadata": {},
   "source": [
    "### Bagging"
   ]
  },
  {
   "cell_type": "code",
   "execution_count": 46,
   "metadata": {},
   "outputs": [],
   "source": [
    "# Set parameter distributions for a randomized search over a bagging classifier\n",
    "params = {\n",
    "    'n_estimators': range(1,100),\n",
    "    'max_samples': np.linspace(.001,1,100),\n",
    "    'max_features': np.linspace(.001,1,100),\n",
    "    'bootstrap': range(2),\n",
    "    'bootstrap_features': range(2),\n",
    "    'warm_start': range(2)\n",
    "}"
   ]
  },
  {
   "cell_type": "code",
   "execution_count": 47,
   "metadata": {},
   "outputs": [
    {
     "data": {
      "text/plain": [
       "RandomizedSearchCV(cv=3, error_score='raise-deprecating',\n",
       "          estimator=BaggingClassifier(base_estimator=None, bootstrap=True,\n",
       "         bootstrap_features=False, max_features=1.0, max_samples=1.0,\n",
       "         n_estimators=10, n_jobs=None, oob_score=False, random_state=72,\n",
       "         verbose=0, warm_start=False),\n",
       "          fit_params=None, iid='warn', n_iter=50, n_jobs=None,\n",
       "          param_distributions={'n_estimators': range(1, 100), 'max_samples': array([0.001  , 0.01109, ..., 0.98991, 1.     ]), 'max_features': array([0.001  , 0.01109, ..., 0.98991, 1.     ]), 'bootstrap': range(0, 2), 'bootstrap_features': range(0, 2), 'warm_start': range(0, 2)},\n",
       "          pre_dispatch='2*n_jobs', random_state=72, refit=True,\n",
       "          return_train_score='warn', scoring=None, verbose=0)"
      ]
     },
     "execution_count": 47,
     "metadata": {},
     "output_type": "execute_result"
    }
   ],
   "source": [
    "# Instantiate and fit a randomized search with 3 folds\n",
    "rs = RandomizedSearchCV(bag, params, 50, cv=3, random_state=72)\n",
    "rs.fit(X_tr_pt, y_train)"
   ]
  },
  {
   "cell_type": "code",
   "execution_count": 48,
   "metadata": {},
   "outputs": [
    {
     "data": {
      "text/plain": [
       "{'warm_start': 0,\n",
       " 'n_estimators': 96,\n",
       " 'max_samples': 0.25327272727272726,\n",
       " 'max_features': 0.4752727272727273,\n",
       " 'bootstrap_features': 1,\n",
       " 'bootstrap': 0}"
      ]
     },
     "execution_count": 48,
     "metadata": {},
     "output_type": "execute_result"
    }
   ],
   "source": [
    "# Display the best performing parameters\n",
    "rs.best_params_"
   ]
  },
  {
   "cell_type": "code",
   "execution_count": 49,
   "metadata": {},
   "outputs": [
    {
     "name": "stdout",
     "output_type": "stream",
     "text": [
      "Training Score: 0.8486550399054094\n",
      "Test Score: 0.7453936348408711\n",
      "Validation Score: 0.93\n"
     ]
    }
   ],
   "source": [
    "# Score the best bagging estimator on training, test, and validation\n",
    "print(f\"Training Score: {rs.best_estimator_.score(X_tr_pt, y_train)}\")\n",
    "print(f\"Test Score: {rs.best_estimator_.score(X_te_pt, y_test)}\")\n",
    "print(f\"Validation Score: {rs.best_estimator_.score(X_val_pt, val['genre'])}\")"
   ]
  },
  {
   "cell_type": "markdown",
   "metadata": {},
   "source": [
    "These are the best results of any model so far, and show a marked improvement from the baseline bagging model, but let's see if they can be improved further with a grid search."
   ]
  },
  {
   "cell_type": "code",
   "execution_count": 50,
   "metadata": {},
   "outputs": [],
   "source": [
    "# Set parameter distributions for a grid search over a bagging classifier\n",
    "params = {\n",
    "    'n_estimators': range(58,63),\n",
    "    'bootstrap': range(2),\n",
    "    'bootstrap_features': range(2),\n",
    "    'warm_start': range(2)\n",
    "}"
   ]
  },
  {
   "cell_type": "code",
   "execution_count": 51,
   "metadata": {},
   "outputs": [
    {
     "data": {
      "text/plain": [
       "GridSearchCV(cv=3, error_score='raise-deprecating',\n",
       "       estimator=BaggingClassifier(base_estimator=None, bootstrap=0, bootstrap_features=1,\n",
       "         max_features=0.4752727272727273, max_samples=0.25327272727272726,\n",
       "         n_estimators=96, n_jobs=None, oob_score=False, random_state=72,\n",
       "         verbose=0, warm_start=0),\n",
       "       fit_params=None, iid='warn', n_jobs=None,\n",
       "       param_grid={'n_estimators': range(58, 63), 'bootstrap': range(0, 2), 'bootstrap_features': range(0, 2), 'warm_start': range(0, 2)},\n",
       "       pre_dispatch='2*n_jobs', refit=True, return_train_score='warn',\n",
       "       scoring=None, verbose=0)"
      ]
     },
     "execution_count": 51,
     "metadata": {},
     "output_type": "execute_result"
    }
   ],
   "source": [
    "# Instantiate and fit a grid search with 3 folds\n",
    "gs = GridSearchCV(rs.best_estimator_, params, cv=3)\n",
    "gs.fit(X_tr_pt, y_train)"
   ]
  },
  {
   "cell_type": "code",
   "execution_count": 52,
   "metadata": {},
   "outputs": [
    {
     "data": {
      "text/plain": [
       "{'bootstrap': 1, 'bootstrap_features': 0, 'n_estimators': 60, 'warm_start': 0}"
      ]
     },
     "execution_count": 52,
     "metadata": {},
     "output_type": "execute_result"
    }
   ],
   "source": [
    "# Display the best performing parameters\n",
    "gs.best_params_"
   ]
  },
  {
   "cell_type": "code",
   "execution_count": 53,
   "metadata": {},
   "outputs": [
    {
     "name": "stdout",
     "output_type": "stream",
     "text": [
      "Training Score: 0.8424475317765298\n",
      "Test Score: 0.7437185929648241\n",
      "Validation Score: 0.92\n"
     ]
    }
   ],
   "source": [
    "# Score the best bagging estimator on training, test, and validation\n",
    "print(f\"Training Score: {gs.best_estimator_.score(X_tr_pt, y_train)}\")\n",
    "print(f\"Test Score: {gs.best_estimator_.score(X_te_pt, y_test)}\")\n",
    "print(f\"Validation Score: {gs.best_estimator_.score(X_val_pt, val['genre'])}\")"
   ]
  },
  {
   "cell_type": "markdown",
   "metadata": {},
   "source": [
    "This model's performance was slightly worse in training, testing, and validation. Therefore the original best estimator from the randomized search will be saved as the final bagging model."
   ]
  },
  {
   "cell_type": "code",
   "execution_count": 54,
   "metadata": {},
   "outputs": [],
   "source": [
    "# Save the best estimator as the final bagging model\n",
    "bag = rs.best_estimator_"
   ]
  },
  {
   "cell_type": "markdown",
   "metadata": {},
   "source": [
    "### Random Forest"
   ]
  },
  {
   "cell_type": "code",
   "execution_count": 55,
   "metadata": {},
   "outputs": [],
   "source": [
    "# Set parameter distributions for a randomized search over a random forest\n",
    "params = {\n",
    "    'n_estimators': range(1,200),\n",
    "    'criterion': ['gini','entropy'],\n",
    "    'max_depth': range(1,25),\n",
    "    'min_samples_split': range(2,25),\n",
    "    'min_samples_leaf': range(1,25),\n",
    "    'min_weight_fraction_leaf': np.linspace(0,.5,100),\n",
    "    'max_features': np.linspace(.001,1.0,100),\n",
    "    'max_leaf_nodes': range(2,100),\n",
    "    'min_impurity_decrease': np.linspace(0,1,100),\n",
    "    'bootstrap': range(2),\n",
    "    'warm_start': range(2)\n",
    "}"
   ]
  },
  {
   "cell_type": "code",
   "execution_count": 56,
   "metadata": {},
   "outputs": [
    {
     "data": {
      "text/plain": [
       "RandomizedSearchCV(cv=3, error_score='raise-deprecating',\n",
       "          estimator=RandomForestClassifier(bootstrap=True, class_weight=None, criterion='gini',\n",
       "            max_depth=None, max_features='auto', max_leaf_nodes=None,\n",
       "            min_impurity_decrease=0.0, min_impurity_split=None,\n",
       "            min_samples_leaf=1, min_samples_split=2,\n",
       "            min_weight_fraction_leaf=0.0, n_estimators=10, n_jobs=None,\n",
       "            oob_score=False, random_state=72, verbose=0, warm_start=False),\n",
       "          fit_params=None, iid='warn', n_iter=50, n_jobs=None,\n",
       "          param_distributions={'n_estimators': range(1, 200), 'criterion': ['gini', 'entropy'], 'max_depth': range(1, 25), 'min_samples_split': range(2, 25), 'min_samples_leaf': range(1, 25), 'min_weight_fraction_leaf': array([0.     , 0.00505, ..., 0.49495, 0.5    ]), 'max_features': array([0.001  , 0.01109, ..., 0.98991, 1.     ]), 'max_leaf_nodes': range(2, 100), 'min_impurity_decrease': array([0.    , 0.0101, ..., 0.9899, 1.    ]), 'bootstrap': range(0, 2), 'warm_start': range(0, 2)},\n",
       "          pre_dispatch='2*n_jobs', random_state=72, refit=True,\n",
       "          return_train_score='warn', scoring=None, verbose=0)"
      ]
     },
     "execution_count": 56,
     "metadata": {},
     "output_type": "execute_result"
    }
   ],
   "source": [
    "# Instantiate and fit a randomized search with 3 folds\n",
    "rs = RandomizedSearchCV(rf, params, 50, cv=3, random_state=72)\n",
    "rs.fit(X_tr_pt, y_train)"
   ]
  },
  {
   "cell_type": "code",
   "execution_count": 57,
   "metadata": {},
   "outputs": [
    {
     "data": {
      "text/plain": [
       "{'warm_start': 1,\n",
       " 'n_estimators': 125,\n",
       " 'min_weight_fraction_leaf': 0.19191919191919193,\n",
       " 'min_samples_split': 9,\n",
       " 'min_samples_leaf': 22,\n",
       " 'min_impurity_decrease': 0.0,\n",
       " 'max_leaf_nodes': 26,\n",
       " 'max_features': 0.3440909090909091,\n",
       " 'max_depth': 5,\n",
       " 'criterion': 'entropy',\n",
       " 'bootstrap': 1}"
      ]
     },
     "execution_count": 57,
     "metadata": {},
     "output_type": "execute_result"
    }
   ],
   "source": [
    "# Display the best performing parameters\n",
    "rs.best_params_"
   ]
  },
  {
   "cell_type": "code",
   "execution_count": 58,
   "metadata": {},
   "outputs": [
    {
     "name": "stdout",
     "output_type": "stream",
     "text": [
      "Training Score: 0.7496305054685191\n",
      "Test Score: 0.7269681742043551\n",
      "Validation Score: 0.89\n"
     ]
    }
   ],
   "source": [
    "# Score the best random forest estimator on training, test, and validation\n",
    "print(f\"Training Score: {rs.best_estimator_.score(X_tr_pt, y_train)}\")\n",
    "print(f\"Test Score: {rs.best_estimator_.score(X_te_pt, y_test)}\")\n",
    "print(f\"Validation Score: {rs.best_estimator_.score(X_val_pt, val['genre'])}\")"
   ]
  },
  {
   "cell_type": "markdown",
   "metadata": {},
   "source": [
    "The other tuned models thus far have managed to get over 90% accuracy on the validation set. The training and test scores here are not significantly better than the previous models either. If this model is going to be used, it will have to be adjusted a bit more."
   ]
  },
  {
   "cell_type": "code",
   "execution_count": 59,
   "metadata": {},
   "outputs": [],
   "source": [
    "# Set parameter distributions for a grid search over a random forest\n",
    "params = {\n",
    "    'n_estimators': [100,125,150],\n",
    "    'criterion': ['gini','entropy'],\n",
    "    'max_depth': [4,5,6],\n",
    "    'min_samples_leaf': [20,22,24],\n",
    "    'warm_start': range(2)\n",
    "}"
   ]
  },
  {
   "cell_type": "code",
   "execution_count": 60,
   "metadata": {},
   "outputs": [
    {
     "data": {
      "text/plain": [
       "GridSearchCV(cv=3, error_score='raise-deprecating',\n",
       "       estimator=RandomForestClassifier(bootstrap=1, class_weight=None, criterion='entropy',\n",
       "            max_depth=5, max_features=0.3440909090909091,\n",
       "            max_leaf_nodes=26, min_impurity_decrease=0.0,\n",
       "            min_impurity_split=None, min_samples_leaf=22,\n",
       "            min_samples_split=9,\n",
       "            min_weight_fraction_leaf=0.19191919191919193, n_estimators=125,\n",
       "            n_jobs=None, oob_score=False, random_state=72, verbose=0,\n",
       "            warm_start=1),\n",
       "       fit_params=None, iid='warn', n_jobs=None,\n",
       "       param_grid={'n_estimators': [100, 125, 150], 'criterion': ['gini', 'entropy'], 'max_depth': [4, 5, 6], 'min_samples_leaf': [20, 22, 24], 'warm_start': range(0, 2)},\n",
       "       pre_dispatch='2*n_jobs', refit=True, return_train_score='warn',\n",
       "       scoring=None, verbose=0)"
      ]
     },
     "execution_count": 60,
     "metadata": {},
     "output_type": "execute_result"
    }
   ],
   "source": [
    "# Instantiate and fit a grid search with 3 folds\n",
    "gs = GridSearchCV(rs.best_estimator_, params, cv=3)\n",
    "gs.fit(X_tr_pt, y_train)"
   ]
  },
  {
   "cell_type": "code",
   "execution_count": 61,
   "metadata": {},
   "outputs": [
    {
     "data": {
      "text/plain": [
       "{'criterion': 'entropy',\n",
       " 'max_depth': 4,\n",
       " 'min_samples_leaf': 20,\n",
       " 'n_estimators': 125,\n",
       " 'warm_start': 0}"
      ]
     },
     "execution_count": 61,
     "metadata": {},
     "output_type": "execute_result"
    }
   ],
   "source": [
    "# Display the best performing parameters\n",
    "gs.best_params_"
   ]
  },
  {
   "cell_type": "code",
   "execution_count": 62,
   "metadata": {},
   "outputs": [
    {
     "name": "stdout",
     "output_type": "stream",
     "text": [
      "Training Score: 0.7496305054685191\n",
      "Test Score: 0.7269681742043551\n",
      "Validation Score: 0.89\n"
     ]
    }
   ],
   "source": [
    "# Score the best random forest estimator on training, test, and validation\n",
    "print(f\"Training Score: {gs.best_estimator_.score(X_tr_pt, y_train)}\")\n",
    "print(f\"Test Score: {gs.best_estimator_.score(X_te_pt, y_test)}\")\n",
    "print(f\"Validation Score: {gs.best_estimator_.score(X_val_pt, val['genre'])}\")"
   ]
  },
  {
   "cell_type": "markdown",
   "metadata": {},
   "source": [
    "The results from the grid search are exactly the same as the randomized search. Since random forest is not performing as well as the previous models, there is no need to bother with it anymore."
   ]
  },
  {
   "cell_type": "markdown",
   "metadata": {},
   "source": [
    "### AdaBoost"
   ]
  },
  {
   "cell_type": "code",
   "execution_count": 63,
   "metadata": {},
   "outputs": [],
   "source": [
    "# Set parameter distributions for a randomized search over adaboost\n",
    "params = {\n",
    "    'learning_rate': np.linspace(.001,5,100),\n",
    "    'n_estimators': range(1,100),\n",
    "    'algorithm': ['SAMME', 'SAMME.R']\n",
    "}"
   ]
  },
  {
   "cell_type": "code",
   "execution_count": 64,
   "metadata": {},
   "outputs": [
    {
     "data": {
      "text/plain": [
       "RandomizedSearchCV(cv=3, error_score='raise-deprecating',\n",
       "          estimator=AdaBoostClassifier(algorithm='SAMME.R', base_estimator=None,\n",
       "          learning_rate=1.0, n_estimators=50, random_state=72),\n",
       "          fit_params=None, iid='warn', n_iter=50, n_jobs=None,\n",
       "          param_distributions={'learning_rate': array([1.00000e-03, 5.14949e-02, ..., 4.94951e+00, 5.00000e+00]), 'n_estimators': range(1, 100), 'algorithm': ['SAMME', 'SAMME.R']},\n",
       "          pre_dispatch='2*n_jobs', random_state=72, refit=True,\n",
       "          return_train_score='warn', scoring=None, verbose=0)"
      ]
     },
     "execution_count": 64,
     "metadata": {},
     "output_type": "execute_result"
    }
   ],
   "source": [
    "# Instantiate and fit a randomized search with 3 folds\n",
    "rs = RandomizedSearchCV(ada, params, 50, cv=3, random_state=72)\n",
    "rs.fit(X_tr_pt, y_train)"
   ]
  },
  {
   "cell_type": "code",
   "execution_count": 65,
   "metadata": {},
   "outputs": [
    {
     "data": {
      "text/plain": [
       "{'n_estimators': 65, 'learning_rate': 0.7584242424242423, 'algorithm': 'SAMME'}"
      ]
     },
     "execution_count": 65,
     "metadata": {},
     "output_type": "execute_result"
    }
   ],
   "source": [
    "# Display the best performing parameters\n",
    "rs.best_params_"
   ]
  },
  {
   "cell_type": "code",
   "execution_count": 66,
   "metadata": {},
   "outputs": [
    {
     "name": "stdout",
     "output_type": "stream",
     "text": [
      "Training Score: 0.7723913686077446\n",
      "Test Score: 0.7286432160804021\n",
      "Validation Score: 0.86\n"
     ]
    }
   ],
   "source": [
    "# Score the best adaboost estimator on training, test, and validation\n",
    "print(f\"Training Score: {rs.best_estimator_.score(X_tr_pt, y_train)}\")\n",
    "print(f\"Test Score: {rs.best_estimator_.score(X_te_pt, y_test)}\")\n",
    "print(f\"Validation Score: {rs.best_estimator_.score(X_val_pt, val['genre'])}\")"
   ]
  },
  {
   "cell_type": "markdown",
   "metadata": {},
   "source": [
    "The original adaboost model actually performed much better than this one. One more attempt to do better than the original will be made with a grid search."
   ]
  },
  {
   "cell_type": "code",
   "execution_count": 67,
   "metadata": {},
   "outputs": [],
   "source": [
    "# Set parameter distributions for a grid search over adaboost\n",
    "params = {\n",
    "    'learning_rate': [.5,.75,1],\n",
    "    'n_estimators': range(60,71),\n",
    "    'algorithm': ['SAMME', 'SAMME.R']\n",
    "}"
   ]
  },
  {
   "cell_type": "code",
   "execution_count": 68,
   "metadata": {},
   "outputs": [
    {
     "data": {
      "text/plain": [
       "GridSearchCV(cv=3, error_score='raise-deprecating',\n",
       "       estimator=AdaBoostClassifier(algorithm='SAMME', base_estimator=None,\n",
       "          learning_rate=0.7584242424242423, n_estimators=65,\n",
       "          random_state=72),\n",
       "       fit_params=None, iid='warn', n_jobs=None,\n",
       "       param_grid={'learning_rate': [0.5, 0.75, 1], 'n_estimators': range(60, 71), 'algorithm': ['SAMME', 'SAMME.R']},\n",
       "       pre_dispatch='2*n_jobs', refit=True, return_train_score='warn',\n",
       "       scoring=None, verbose=0)"
      ]
     },
     "execution_count": 68,
     "metadata": {},
     "output_type": "execute_result"
    }
   ],
   "source": [
    "# Instantiate and fit a grid search with 3 folds\n",
    "gs = GridSearchCV(rs.best_estimator_, params, cv=3)\n",
    "gs.fit(X_tr_pt, y_train)"
   ]
  },
  {
   "cell_type": "code",
   "execution_count": 69,
   "metadata": {},
   "outputs": [
    {
     "data": {
      "text/plain": [
       "{'algorithm': 'SAMME', 'learning_rate': 1, 'n_estimators': 68}"
      ]
     },
     "execution_count": 69,
     "metadata": {},
     "output_type": "execute_result"
    }
   ],
   "source": [
    "# Display the best performing parameters\n",
    "gs.best_params_"
   ]
  },
  {
   "cell_type": "code",
   "execution_count": 70,
   "metadata": {},
   "outputs": [
    {
     "name": "stdout",
     "output_type": "stream",
     "text": [
      "Training Score: 0.7650014779781259\n",
      "Test Score: 0.7252931323283082\n",
      "Validation Score: 0.8\n"
     ]
    }
   ],
   "source": [
    "# Score the best adaboost estimator on training, test, and validation\n",
    "print(f\"Training Score: {gs.best_estimator_.score(X_tr_pt, y_train)}\")\n",
    "print(f\"Test Score: {gs.best_estimator_.score(X_te_pt, y_test)}\")\n",
    "print(f\"Validation Score: {gs.best_estimator_.score(X_val_pt, val['genre'])}\")"
   ]
  },
  {
   "cell_type": "markdown",
   "metadata": {},
   "source": [
    "These results are only getting worse, so the original model is the best choice for adaboost."
   ]
  },
  {
   "cell_type": "markdown",
   "metadata": {},
   "source": [
    "### Gradient Boost"
   ]
  },
  {
   "cell_type": "code",
   "execution_count": 71,
   "metadata": {},
   "outputs": [],
   "source": [
    "# Set parameter distributions for a randomized search over gradient boost\n",
    "params = {\n",
    "    'learning_rate': np.linspace(.001,.5,100),\n",
    "    'n_estimators': range(1,200),\n",
    "    'subsample': np.linspace(0,1,100),\n",
    "    'min_samples_split': range(2,10),\n",
    "    'min_samples_leaf': range(1,10),\n",
    "    'max_depth': range(1,50),\n",
    "    'min_impurity_decrease': np.linspace(.001,1)\n",
    "}"
   ]
  },
  {
   "cell_type": "code",
   "execution_count": 72,
   "metadata": {},
   "outputs": [
    {
     "data": {
      "text/plain": [
       "RandomizedSearchCV(cv=3, error_score='raise-deprecating',\n",
       "          estimator=GradientBoostingClassifier(criterion='friedman_mse', init=None,\n",
       "              learning_rate=0.1, loss='deviance', max_depth=3,\n",
       "              max_features=None, max_leaf_nodes=None,\n",
       "              min_impurity_decrease=0.0, min_impurity_split=None,\n",
       "              min_samples_leaf=1, min_sampl...      subsample=1.0, tol=0.0001, validation_fraction=0.1,\n",
       "              verbose=0, warm_start=False),\n",
       "          fit_params=None, iid='warn', n_iter=5, n_jobs=None,\n",
       "          param_distributions={'learning_rate': array([0.001  , 0.00604, ..., 0.49496, 0.5    ]), 'n_estimators': range(1, 200), 'subsample': array([0.    , 0.0101, ..., 0.9899, 1.    ]), 'min_samples_split': range(2, 10), 'min_samples_leaf': range(1, 10), 'max_depth': range(1, 50), 'min_impurity_decrease': a...51, 0.8369 ,\n",
       "       0.85729, 0.87767, 0.89806, 0.91845, 0.93884, 0.95922, 0.97961,\n",
       "       1.     ])},\n",
       "          pre_dispatch='2*n_jobs', random_state=72, refit=True,\n",
       "          return_train_score='warn', scoring=None, verbose=0)"
      ]
     },
     "execution_count": 72,
     "metadata": {},
     "output_type": "execute_result"
    }
   ],
   "source": [
    "# Instantiate and fit a randomized search with 3 folds\n",
    "rs = RandomizedSearchCV(gb, params, 5, cv=3, random_state=72)\n",
    "rs.fit(X_tr_pt, y_train)"
   ]
  },
  {
   "cell_type": "code",
   "execution_count": 73,
   "metadata": {},
   "outputs": [
    {
     "data": {
      "text/plain": [
       "{'subsample': 0.29292929292929293,\n",
       " 'n_estimators': 131,\n",
       " 'min_samples_split': 4,\n",
       " 'min_samples_leaf': 6,\n",
       " 'min_impurity_decrease': 0.18448979591836737,\n",
       " 'max_depth': 18,\n",
       " 'learning_rate': 0.046363636363636364}"
      ]
     },
     "execution_count": 73,
     "metadata": {},
     "output_type": "execute_result"
    }
   ],
   "source": [
    "# Display the best performing parameters\n",
    "rs.best_params_"
   ]
  },
  {
   "cell_type": "code",
   "execution_count": 74,
   "metadata": {},
   "outputs": [
    {
     "name": "stdout",
     "output_type": "stream",
     "text": [
      "Training Score: 0.9074785693171741\n",
      "Test Score: 0.7085427135678392\n",
      "Validation Score: 0.93\n"
     ]
    }
   ],
   "source": [
    "# Score the best gradient boost estimator on training, test, and validation\n",
    "print(f\"Training Score: {rs.best_estimator_.score(X_tr_pt, y_train)}\")\n",
    "print(f\"Test Score: {rs.best_estimator_.score(X_te_pt, y_test)}\")\n",
    "print(f\"Validation Score: {rs.best_estimator_.score(X_val_pt, val['genre'])}\")"
   ]
  },
  {
   "cell_type": "markdown",
   "metadata": {},
   "source": [
    "This model has significantly higher variance compared to the baseline model, but it scored higher on the validation data, which is important. Let's see if a grid search will help combat some of the overfitting."
   ]
  },
  {
   "cell_type": "code",
   "execution_count": 75,
   "metadata": {},
   "outputs": [],
   "source": [
    "# Set parameter distributions for a grid search over gradient boost\n",
    "params = {\n",
    "    'criterion': ['friedman_mse','mse','mae'],\n",
    "    'warm_start': range(2),\n",
    "    'presort': range(2)\n",
    "}"
   ]
  },
  {
   "cell_type": "code",
   "execution_count": 76,
   "metadata": {},
   "outputs": [
    {
     "data": {
      "text/plain": [
       "GridSearchCV(cv=3, error_score='raise-deprecating',\n",
       "       estimator=GradientBoostingClassifier(criterion='friedman_mse', init=None,\n",
       "              learning_rate=0.046363636363636364, loss='deviance',\n",
       "              max_depth=18, max_features=None, max_leaf_nodes=None,\n",
       "              min_impurity_decrease=0.18448979591836737,\n",
       "              min_impurity_split=N...0.29292929292929293, tol=0.0001,\n",
       "              validation_fraction=0.1, verbose=0, warm_start=False),\n",
       "       fit_params=None, iid='warn', n_jobs=None,\n",
       "       param_grid={'criterion': ['friedman_mse', 'mse', 'mae'], 'warm_start': range(0, 2), 'presort': range(0, 2)},\n",
       "       pre_dispatch='2*n_jobs', refit=True, return_train_score='warn',\n",
       "       scoring=None, verbose=0)"
      ]
     },
     "execution_count": 76,
     "metadata": {},
     "output_type": "execute_result"
    }
   ],
   "source": [
    "# Instantiate and fit a grid search with 3 folds\n",
    "gs = GridSearchCV(rs.best_estimator_, params, cv=3)\n",
    "gs.fit(X_tr_pt, y_train)"
   ]
  },
  {
   "cell_type": "code",
   "execution_count": 77,
   "metadata": {},
   "outputs": [
    {
     "data": {
      "text/plain": [
       "{'criterion': 'friedman_mse', 'presort': 0, 'warm_start': 0}"
      ]
     },
     "execution_count": 77,
     "metadata": {},
     "output_type": "execute_result"
    }
   ],
   "source": [
    "# Display the best performing parameters\n",
    "gs.best_params_"
   ]
  },
  {
   "cell_type": "code",
   "execution_count": 78,
   "metadata": {},
   "outputs": [
    {
     "name": "stdout",
     "output_type": "stream",
     "text": [
      "Training Score: 0.9071829736919894\n",
      "Test Score: 0.711892797319933\n",
      "Validation Score: 0.92\n"
     ]
    }
   ],
   "source": [
    "# Score the best gradient boost estimator on training, test, and validation\n",
    "print(f\"Training Score: {gs.best_estimator_.score(X_tr_pt, y_train)}\")\n",
    "print(f\"Test Score: {gs.best_estimator_.score(X_te_pt, y_test)}\")\n",
    "print(f\"Validation Score: {gs.best_estimator_.score(X_val_pt, val['genre'])}\")"
   ]
  },
  {
   "cell_type": "markdown",
   "metadata": {},
   "source": [
    "While there is a very slight decrease in variance with this second model, there is also a decrease in the validation score, and for this reason, the best estimator from the randomized search is still preferred. It is possible that further tuning of hyperparameters will produce better results, so another grid search should be attempted."
   ]
  },
  {
   "cell_type": "code",
   "execution_count": 79,
   "metadata": {},
   "outputs": [],
   "source": [
    "# Set parameter distributions for a second grid search over gradient boost\n",
    "params = {\n",
    "    'min_weight_fraction_leaf': [0.,.25,.5],\n",
    "    'max_features': [None,'auto','log2'],\n",
    "    'max_leaf_nodes': [None,25]\n",
    "}"
   ]
  },
  {
   "cell_type": "code",
   "execution_count": 80,
   "metadata": {},
   "outputs": [
    {
     "data": {
      "text/plain": [
       "GridSearchCV(cv=3, error_score='raise-deprecating',\n",
       "       estimator=GradientBoostingClassifier(criterion='friedman_mse', init=None,\n",
       "              learning_rate=0.046363636363636364, loss='deviance',\n",
       "              max_depth=18, max_features=None, max_leaf_nodes=None,\n",
       "              min_impurity_decrease=0.18448979591836737,\n",
       "              min_impurity_split=N...0.29292929292929293, tol=0.0001,\n",
       "              validation_fraction=0.1, verbose=0, warm_start=False),\n",
       "       fit_params=None, iid='warn', n_jobs=None,\n",
       "       param_grid={'min_weight_fraction_leaf': [0.0, 0.25, 0.5], 'max_features': [None, 'auto', 'log2'], 'max_leaf_nodes': [None, 25]},\n",
       "       pre_dispatch='2*n_jobs', refit=True, return_train_score='warn',\n",
       "       scoring=None, verbose=0)"
      ]
     },
     "execution_count": 80,
     "metadata": {},
     "output_type": "execute_result"
    }
   ],
   "source": [
    "# Instantiate and fit a grid search with 3 folds\n",
    "gs2 = GridSearchCV(rs.best_estimator_, params, cv=3)\n",
    "gs2.fit(X_tr_pt, y_train)"
   ]
  },
  {
   "cell_type": "code",
   "execution_count": 81,
   "metadata": {},
   "outputs": [
    {
     "data": {
      "text/plain": [
       "{'max_features': None,\n",
       " 'max_leaf_nodes': None,\n",
       " 'min_weight_fraction_leaf': 0.25}"
      ]
     },
     "execution_count": 81,
     "metadata": {},
     "output_type": "execute_result"
    }
   ],
   "source": [
    "# Display the best performing parameters\n",
    "gs2.best_params_"
   ]
  },
  {
   "cell_type": "code",
   "execution_count": 82,
   "metadata": {},
   "outputs": [
    {
     "name": "stdout",
     "output_type": "stream",
     "text": [
      "Training Score: 0.7853975761158735\n",
      "Test Score: 0.7353433835845896\n",
      "Validation Score: 0.89\n"
     ]
    }
   ],
   "source": [
    "# Score the best gradient boost estimator on training, test, and validation\n",
    "print(f\"Training Score: {gs2.best_estimator_.score(X_tr_pt, y_train)}\")\n",
    "print(f\"Test Score: {gs2.best_estimator_.score(X_te_pt, y_test)}\")\n",
    "print(f\"Validation Score: {gs2.best_estimator_.score(X_val_pt, val['genre'])}\")"
   ]
  },
  {
   "cell_type": "markdown",
   "metadata": {},
   "source": [
    "This model has accounted for most of the variance in the previous models, but the validation score took even more of a hit."
   ]
  },
  {
   "cell_type": "code",
   "execution_count": 83,
   "metadata": {},
   "outputs": [],
   "source": [
    "# Save the best estimator as the final gradient boost model\n",
    "gb = rs.best_estimator_"
   ]
  },
  {
   "cell_type": "markdown",
   "metadata": {},
   "source": [
    "### XGBoost"
   ]
  },
  {
   "cell_type": "code",
   "execution_count": 84,
   "metadata": {},
   "outputs": [],
   "source": [
    "# Set parameter distributions for a randomized search over XGBoost\n",
    "params = {\n",
    "    'learning_rate': np.linspace(.001,.5,25),\n",
    "    'n_estimators': range(1,200),\n",
    "    'gamma': range(10),\n",
    "    'min_child_weight': range(1,10),\n",
    "    'max_delta_step': range(10),\n",
    "    'subsample': np.linspace(0,1,25),\n",
    "    'colsample_bytree': np.linspace(0,1,25),\n",
    "    'colsample_bylevel': np.linspace(0,1,25),\n",
    "    'colsample_bynode': np.linspace(0,1,25),\n",
    "    'max_depth': range(1,25),\n",
    "    'reg_alpha': range(5),\n",
    "    'reg_lambda': range(5),\n",
    "    'scale_pos_weight': np.linspace(0,1,25),\n",
    "    'base_score': np.linspace(0,1,25)\n",
    "}"
   ]
  },
  {
   "cell_type": "code",
   "execution_count": 85,
   "metadata": {},
   "outputs": [
    {
     "data": {
      "text/plain": [
       "RandomizedSearchCV(cv=3, error_score='raise-deprecating',\n",
       "          estimator=XGBClassifier(base_score=0.5, booster='gbtree', colsample_bylevel=1,\n",
       "       colsample_bynode=1, colsample_bytree=1, gamma=0, learning_rate=0.1,\n",
       "       max_delta_step=0, max_depth=3, min_child_weight=1, missing=None,\n",
       "       n_estimators=100, n_jobs=1, nthread=None,\n",
       "       objective='multi:softprob', random_state=72, reg_alpha=0,\n",
       "       reg_lambda=1, scale_pos_weight=1, seed=None, silent=None,\n",
       "       subsample=1, verbosity=1),\n",
       "          fit_params=None, iid='warn', n_iter=50, n_jobs=None,\n",
       "          param_distributions={'learning_rate': array([0.001  , 0.02179, 0.04258, 0.06338, 0.08417, 0.10496, 0.12575,\n",
       "       0.14654, 0.16733, 0.18812, 0.20892, 0.22971, 0.2505 , 0.27129,\n",
       "       0.29208, 0.31288, 0.33367, 0.35446, 0.37525, 0.39604, 0.41683,\n",
       "       0.43762, 0.45842, 0.47921, 0.5    ]), 'n_esti..., 0.625  , 0.66667, 0.70833, 0.75   , 0.79167, 0.83333,\n",
       "       0.875  , 0.91667, 0.95833, 1.     ])},\n",
       "          pre_dispatch='2*n_jobs', random_state=72, refit=True,\n",
       "          return_train_score='warn', scoring=None, verbose=0)"
      ]
     },
     "execution_count": 85,
     "metadata": {},
     "output_type": "execute_result"
    }
   ],
   "source": [
    "# Instantiate and fit a randomized search with 3 folds\n",
    "rs = RandomizedSearchCV(xgb, params, 50, cv=3, random_state=72)\n",
    "rs.fit(X_tr_pt, y_train)"
   ]
  },
  {
   "cell_type": "code",
   "execution_count": 86,
   "metadata": {},
   "outputs": [
    {
     "data": {
      "text/plain": [
       "{'subsample': 0.41666666666666663,\n",
       " 'scale_pos_weight': 0.4583333333333333,\n",
       " 'reg_lambda': 0,\n",
       " 'reg_alpha': 2,\n",
       " 'n_estimators': 91,\n",
       " 'min_child_weight': 9,\n",
       " 'max_depth': 15,\n",
       " 'max_delta_step': 3,\n",
       " 'learning_rate': 0.021791666666666668,\n",
       " 'gamma': 0,\n",
       " 'colsample_bytree': 0.6666666666666666,\n",
       " 'colsample_bynode': 0.3333333333333333,\n",
       " 'colsample_bylevel': 1.0,\n",
       " 'base_score': 0.08333333333333333}"
      ]
     },
     "execution_count": 86,
     "metadata": {},
     "output_type": "execute_result"
    }
   ],
   "source": [
    "# Display the best performing parameters\n",
    "rs.best_params_"
   ]
  },
  {
   "cell_type": "code",
   "execution_count": 87,
   "metadata": {},
   "outputs": [
    {
     "name": "stdout",
     "output_type": "stream",
     "text": [
      "Training Score: 0.8016553355010346\n",
      "Test Score: 0.7470686767169179\n",
      "Validation Score: 0.92\n"
     ]
    }
   ],
   "source": [
    "# Score the best XGBoost estimator on training, test, and validation\n",
    "print(f\"Training Score: {rs.best_estimator_.score(X_tr_pt, y_train)}\")\n",
    "print(f\"Test Score: {rs.best_estimator_.score(X_te_pt, y_test)}\")\n",
    "print(f\"Validation Score: {rs.best_estimator_.score(X_val_pt, val['genre'])}\")"
   ]
  },
  {
   "cell_type": "markdown",
   "metadata": {},
   "source": [
    "This is an improvement from the original XGBoost model. Let's see if it can be get even better."
   ]
  },
  {
   "cell_type": "code",
   "execution_count": 88,
   "metadata": {},
   "outputs": [],
   "source": [
    "# Set parameter distributions for a grid search over XGBoost\n",
    "params = {\n",
    "    'booster': ['gbtree','gblinear','dart'],\n",
    "    'learning_rate': [.01,.05],\n",
    "    'n_estimators': [80,100],\n",
    "    'max_depth': [10,20],\n",
    "    'reg_alpha': range(3),\n",
    "    'reg_lambda': range(3),\n",
    "}"
   ]
  },
  {
   "cell_type": "code",
   "execution_count": 89,
   "metadata": {},
   "outputs": [
    {
     "data": {
      "text/plain": [
       "GridSearchCV(cv=3, error_score='raise-deprecating',\n",
       "       estimator=XGBClassifier(base_score=0.08333333333333333, booster='gbtree',\n",
       "       colsample_bylevel=1.0, colsample_bynode=0.3333333333333333,\n",
       "       colsample_bytree=0.6666666666666666, gamma=0,\n",
       "       learning_rate=0.021791666666666668, max_delta_step=3, max_depth=15,\n",
       "       min_child_weight=9, miss...eight=0.4583333333333333,\n",
       "       seed=None, silent=None, subsample=0.41666666666666663, verbosity=1),\n",
       "       fit_params=None, iid='warn', n_jobs=None,\n",
       "       param_grid={'booster': ['gbtree', 'gblinear', 'dart'], 'learning_rate': [0.01, 0.05], 'n_estimators': [80, 100], 'max_depth': [10, 20], 'reg_alpha': range(0, 3), 'reg_lambda': range(0, 3)},\n",
       "       pre_dispatch='2*n_jobs', refit=True, return_train_score='warn',\n",
       "       scoring=None, verbose=0)"
      ]
     },
     "execution_count": 89,
     "metadata": {},
     "output_type": "execute_result"
    }
   ],
   "source": [
    "# Instantiate and fit a grid search with 3 folds\n",
    "gs = GridSearchCV(rs.best_estimator_, params, cv=3)\n",
    "gs.fit(X_tr_pt, y_train)"
   ]
  },
  {
   "cell_type": "code",
   "execution_count": 90,
   "metadata": {},
   "outputs": [
    {
     "data": {
      "text/plain": [
       "{'booster': 'gbtree',\n",
       " 'learning_rate': 0.01,\n",
       " 'max_depth': 10,\n",
       " 'n_estimators': 100,\n",
       " 'reg_alpha': 1,\n",
       " 'reg_lambda': 1}"
      ]
     },
     "execution_count": 90,
     "metadata": {},
     "output_type": "execute_result"
    }
   ],
   "source": [
    "# Display the best performing parameters\n",
    "gs.best_params_"
   ]
  },
  {
   "cell_type": "code",
   "execution_count": 91,
   "metadata": {},
   "outputs": [
    {
     "name": "stdout",
     "output_type": "stream",
     "text": [
      "Training Score: 0.7986993792491871\n",
      "Test Score: 0.7420435510887772\n",
      "Validation Score: 0.92\n"
     ]
    }
   ],
   "source": [
    "# Score the best XGBoost estimator on training, test, and validation\n",
    "print(f\"Training Score: {gs.best_estimator_.score(X_tr_pt, y_train)}\")\n",
    "print(f\"Test Score: {gs.best_estimator_.score(X_te_pt, y_test)}\")\n",
    "print(f\"Validation Score: {gs.best_estimator_.score(X_val_pt, val['genre'])}\")"
   ]
  },
  {
   "cell_type": "code",
   "execution_count": 92,
   "metadata": {},
   "outputs": [],
   "source": [
    "# Set parameter distributions for a second grid search over XGBoost\n",
    "params = {\n",
    "    'learning_rate': [.01,.02],\n",
    "    'n_estimators': [90,100],\n",
    "    'max_depth': [10,15],\n",
    "    'reg_alpha': range(3),\n",
    "    'reg_lambda': range(3),\n",
    "}"
   ]
  },
  {
   "cell_type": "code",
   "execution_count": 93,
   "metadata": {},
   "outputs": [
    {
     "data": {
      "text/plain": [
       "GridSearchCV(cv=3, error_score='raise-deprecating',\n",
       "       estimator=XGBClassifier(base_score=0.08333333333333333, booster='gbtree',\n",
       "       colsample_bylevel=1.0, colsample_bynode=0.3333333333333333,\n",
       "       colsample_bytree=0.6666666666666666, gamma=0, learning_rate=0.01,\n",
       "       max_delta_step=3, max_depth=10, min_child_weight=9, missing=None,\n",
       "       n_esti...eight=0.4583333333333333, seed=None,\n",
       "       silent=None, subsample=0.41666666666666663, verbosity=1),\n",
       "       fit_params=None, iid='warn', n_jobs=None,\n",
       "       param_grid={'learning_rate': [0.01, 0.02], 'n_estimators': [90, 100], 'max_depth': [10, 15], 'reg_alpha': range(0, 3), 'reg_lambda': range(0, 3)},\n",
       "       pre_dispatch='2*n_jobs', refit=True, return_train_score='warn',\n",
       "       scoring=None, verbose=0)"
      ]
     },
     "execution_count": 93,
     "metadata": {},
     "output_type": "execute_result"
    }
   ],
   "source": [
    "# Instantiate and fit a grid search with 3 folds\n",
    "gs2 = GridSearchCV(gs.best_estimator_, params, cv=3)\n",
    "gs2.fit(X_tr_pt, y_train)"
   ]
  },
  {
   "cell_type": "code",
   "execution_count": 94,
   "metadata": {},
   "outputs": [
    {
     "data": {
      "text/plain": [
       "{'learning_rate': 0.01,\n",
       " 'max_depth': 10,\n",
       " 'n_estimators': 90,\n",
       " 'reg_alpha': 1,\n",
       " 'reg_lambda': 2}"
      ]
     },
     "execution_count": 94,
     "metadata": {},
     "output_type": "execute_result"
    }
   ],
   "source": [
    "# Display the best performing parameters\n",
    "gs2.best_params_"
   ]
  },
  {
   "cell_type": "code",
   "execution_count": 95,
   "metadata": {},
   "outputs": [
    {
     "name": "stdout",
     "output_type": "stream",
     "text": [
      "Training Score: 0.7989949748743719\n",
      "Test Score: 0.7437185929648241\n",
      "Validation Score: 0.92\n"
     ]
    }
   ],
   "source": [
    "# Score the best XGBoost estimator on training, test, and validation\n",
    "print(f\"Training Score: {gs2.best_estimator_.score(X_tr_pt, y_train)}\")\n",
    "print(f\"Test Score: {gs2.best_estimator_.score(X_te_pt, y_test)}\")\n",
    "print(f\"Validation Score: {gs2.best_estimator_.score(X_val_pt, val['genre'])}\")"
   ]
  },
  {
   "cell_type": "code",
   "execution_count": 96,
   "metadata": {},
   "outputs": [],
   "source": [
    "# Set parameter distributions for a third grid search over XGBoost\n",
    "params = {\n",
    "    'learning_rate': [.005,.01],\n",
    "    'max_depth': [5,10],\n",
    "    'reg_alpha': range(3),\n",
    "    'reg_lambda': range(3),\n",
    "}"
   ]
  },
  {
   "cell_type": "code",
   "execution_count": 97,
   "metadata": {},
   "outputs": [
    {
     "data": {
      "text/plain": [
       "GridSearchCV(cv=3, error_score='raise-deprecating',\n",
       "       estimator=XGBClassifier(base_score=0.08333333333333333, booster='gbtree',\n",
       "       colsample_bylevel=1.0, colsample_bynode=0.3333333333333333,\n",
       "       colsample_bytree=0.6666666666666666, gamma=0, learning_rate=0.01,\n",
       "       max_delta_step=3, max_depth=10, min_child_weight=9, missing=None,\n",
       "       n_esti...eight=0.4583333333333333, seed=None,\n",
       "       silent=None, subsample=0.41666666666666663, verbosity=1),\n",
       "       fit_params=None, iid='warn', n_jobs=None,\n",
       "       param_grid={'learning_rate': [0.005, 0.01], 'max_depth': [5, 10], 'reg_alpha': range(0, 3), 'reg_lambda': range(0, 3)},\n",
       "       pre_dispatch='2*n_jobs', refit=True, return_train_score='warn',\n",
       "       scoring=None, verbose=0)"
      ]
     },
     "execution_count": 97,
     "metadata": {},
     "output_type": "execute_result"
    }
   ],
   "source": [
    "# Instantiate and fit a grid search with 3 folds\n",
    "gs3 = GridSearchCV(gs.best_estimator_, params, cv=3)\n",
    "gs3.fit(X_tr_pt, y_train)"
   ]
  },
  {
   "cell_type": "code",
   "execution_count": 98,
   "metadata": {},
   "outputs": [
    {
     "data": {
      "text/plain": [
       "{'learning_rate': 0.005, 'max_depth': 5, 'reg_alpha': 0, 'reg_lambda': 0}"
      ]
     },
     "execution_count": 98,
     "metadata": {},
     "output_type": "execute_result"
    }
   ],
   "source": [
    "# Display the best performing parameters\n",
    "gs3.best_params_"
   ]
  },
  {
   "cell_type": "code",
   "execution_count": 99,
   "metadata": {},
   "outputs": [
    {
     "name": "stdout",
     "output_type": "stream",
     "text": [
      "Training Score: 0.7945610404966007\n",
      "Test Score: 0.7487437185929648\n",
      "Validation Score: 0.91\n"
     ]
    }
   ],
   "source": [
    "# Score the best XGBoost estimator on training, test, and validation\n",
    "print(f\"Training Score: {gs3.best_estimator_.score(X_tr_pt, y_train)}\")\n",
    "print(f\"Test Score: {gs3.best_estimator_.score(X_te_pt, y_test)}\")\n",
    "print(f\"Validation Score: {gs3.best_estimator_.score(X_val_pt, val['genre'])}\")"
   ]
  },
  {
   "cell_type": "code",
   "execution_count": 100,
   "metadata": {},
   "outputs": [],
   "source": [
    "# Save the best estimator as the final gradient boost model\n",
    "xgb = gs2.best_estimator_"
   ]
  },
  {
   "cell_type": "markdown",
   "metadata": {},
   "source": [
    "### Voting"
   ]
  },
  {
   "cell_type": "code",
   "execution_count": 101,
   "metadata": {},
   "outputs": [],
   "source": [
    "# Set a list of estimators for the voting classifier\n",
    "models = [\n",
    "    ('dt', dt),\n",
    "    ('bag', bag),\n",
    "    ('ada', ada),\n",
    "    ('gb', gb),\n",
    "    ('xgb', xgb)\n",
    "]"
   ]
  },
  {
   "cell_type": "code",
   "execution_count": 102,
   "metadata": {},
   "outputs": [
    {
     "name": "stdout",
     "output_type": "stream",
     "text": [
      "Training Score: 0.8226426248891516\n",
      "Test Score: 0.7453936348408711\n",
      "Validation Score: 0.93\n"
     ]
    }
   ],
   "source": [
    "vc = VotingClassifier(models)\n",
    "vc.fit(X_tr_pt, y_train)\n",
    "print(f\"Training Score: {vc.score(X_tr_pt, y_train)}\")\n",
    "print(f\"Test Score: {vc.score(X_te_pt, y_test)}\")\n",
    "print(f\"Validation Score: {vc.score(X_val_pt, val['genre'])}\")"
   ]
  },
  {
   "cell_type": "code",
   "execution_count": 103,
   "metadata": {},
   "outputs": [
    {
     "name": "stdout",
     "output_type": "stream",
     "text": [
      "Training Score: 0.8312148980195093\n",
      "Test Score: 0.7437185929648241\n",
      "Validation Score: 0.93\n"
     ]
    }
   ],
   "source": [
    "vc = VotingClassifier(models, 'soft')\n",
    "vc.fit(X_tr_pt, y_train)\n",
    "print(f\"Training Score: {vc.score(X_tr_pt, y_train)}\")\n",
    "print(f\"Test Score: {vc.score(X_te_pt, y_test)}\")\n",
    "print(f\"Validation Score: {vc.score(X_val_pt, val['genre'])}\")"
   ]
  },
  {
   "cell_type": "code",
   "execution_count": 104,
   "metadata": {},
   "outputs": [
    {
     "name": "stdout",
     "output_type": "stream",
     "text": [
      "Training Score: 0.8229382205143364\n",
      "Test Score: 0.7520938023450586\n",
      "Validation Score: 0.93\n"
     ]
    }
   ],
   "source": [
    "vc = VotingClassifier(models)\n",
    "vc.fit(X_tr_sc, y_train)\n",
    "print(f\"Training Score: {vc.score(X_tr_sc, y_train)}\")\n",
    "print(f\"Test Score: {vc.score(X_te_sc, y_test)}\")\n",
    "print(f\"Validation Score: {vc.score(X_val_sc, val['genre'])}\")"
   ]
  },
  {
   "cell_type": "code",
   "execution_count": 105,
   "metadata": {},
   "outputs": [
    {
     "name": "stdout",
     "output_type": "stream",
     "text": [
      "Training Score: 0.8329884717706177\n",
      "Test Score: 0.7420435510887772\n",
      "Validation Score: 0.93\n"
     ]
    }
   ],
   "source": [
    "vc = VotingClassifier(models, 'soft')\n",
    "vc.fit(X_tr_sc, y_train)\n",
    "print(f\"Training Score: {vc.score(X_tr_sc, y_train)}\")\n",
    "print(f\"Test Score: {vc.score(X_te_sc, y_test)}\")\n",
    "print(f\"Validation Score: {vc.score(X_val_sc, val['genre'])}\")"
   ]
  },
  {
   "cell_type": "code",
   "execution_count": 106,
   "metadata": {},
   "outputs": [
    {
     "name": "stdout",
     "output_type": "stream",
     "text": [
      "Training Score: 0.8229382205143364\n",
      "Test Score: 0.7504187604690117\n",
      "Validation Score: 0.93\n"
     ]
    }
   ],
   "source": [
    "vc = VotingClassifier(models)\n",
    "vc.fit(X_train, y_train)\n",
    "print(f\"Training Score: {vc.score(X_train, y_train)}\")\n",
    "print(f\"Test Score: {vc.score(X_test, y_test)}\")\n",
    "print(f\"Validation Score: {vc.score(X_val, val['genre'])}\")"
   ]
  },
  {
   "cell_type": "code",
   "execution_count": 107,
   "metadata": {},
   "outputs": [
    {
     "name": "stdout",
     "output_type": "stream",
     "text": [
      "Training Score: 0.8329884717706177\n",
      "Test Score: 0.7437185929648241\n",
      "Validation Score: 0.93\n"
     ]
    }
   ],
   "source": [
    "vc = VotingClassifier(models, 'soft')\n",
    "vc.fit(X_train, y_train)\n",
    "print(f\"Training Score: {vc.score(X_train, y_train)}\")\n",
    "print(f\"Test Score: {vc.score(X_test, y_test)}\")\n",
    "print(f\"Validation Score: {vc.score(X_val, val['genre'])}\")"
   ]
  },
  {
   "cell_type": "code",
   "execution_count": 108,
   "metadata": {},
   "outputs": [],
   "source": [
    "# Persist the model for the final app\n",
    "with open('final_model.pkl', 'wb') as f:\n",
    "    pickle.dump(vc, f)"
   ]
  },
  {
   "cell_type": "markdown",
   "metadata": {},
   "source": [
    "## Final Analysis"
   ]
  },
  {
   "cell_type": "code",
   "execution_count": 109,
   "metadata": {},
   "outputs": [],
   "source": [
    "# Store the top 20 most important features from XGBoost in a dataframe\n",
    "feat_imp = pd.DataFrame(xgb.feature_importances_, index=poly_feat).sort_values(0, ascending=False)[:20]"
   ]
  },
  {
   "cell_type": "code",
   "execution_count": 110,
   "metadata": {},
   "outputs": [
    {
     "data": {
      "image/png": "[encoded data removed]",
      "text/plain": [
       "<Figure size 720x720 with 1 Axes>"
      ]
     },
     "metadata": {
      "needs_background": "light"
     },
     "output_type": "display_data"
    }
   ],
   "source": [
    "# Plot the top 20 features\n",
    "plt.figure(figsize=(10,10))\n",
    "plt.barh(feat_imp.index, feat_imp[0])\n",
    "plt.gca().invert_yaxis()"
   ]
  }
 ],
 "metadata": {
  "kernelspec": {
   "display_name": "Python 3",
   "language": "python",
   "name": "python3"
  },
  "language_info": {
   "codemirror_mode": {
    "name": "ipython",
    "version": 3
   },
   "file_extension": ".py",
   "mimetype": "text/x-python",
   "name": "python",
   "nbconvert_exporter": "python",
   "pygments_lexer": "ipython3",
   "version": "3.6.7"
  }
 },
 "nbformat": 4,
 "nbformat_minor": 2
}
